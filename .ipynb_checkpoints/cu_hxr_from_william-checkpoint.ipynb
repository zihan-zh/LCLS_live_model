{
 "cells": [
  {
   "cell_type": "code",
   "execution_count": 1,
   "id": "6c1dad5a-05a8-4f8b-8276-8dd4c4430814",
   "metadata": {},
   "outputs": [],
   "source": [
    "from pytao import Tao\n",
    "\n",
    "import sys\n",
    "sys.path.insert(0, '/sdf/data/ad/ard/u/zihanzhu/lcls/lcls-live/lcls-tools/')\n",
    "from lcls_tools.common.data.bmad_modeling import bmad_modeling as mod\n",
    "from lcls_tools.common.data.bmad_modeling.outputs import bmad_modeling_outputs as outfn\n"
   ]
  },
  {
   "cell_type": "code",
   "execution_count": 2,
   "id": "39b5ca81-3ead-4707-b612-466ded54f86d",
   "metadata": {},
   "outputs": [],
   "source": [
    "import os\n",
    "os.environ['EPICS_CA_NAME_SERVERS'] = 'localhost:24666'"
   ]
  },
  {
   "cell_type": "code",
   "execution_count": 3,
   "id": "0da97924-f6db-46dd-b629-b26d53a5dcac",
   "metadata": {},
   "outputs": [
    {
     "name": "stdout",
     "output_type": "stream",
     "text": [
      "env: DISPLAY=:36.0\n"
     ]
    }
   ],
   "source": [
    "%env DISPLAY=:36.0"
   ]
  },
  {
   "cell_type": "code",
   "execution_count": 3,
   "id": "bbb5c191-d56e-4ba2-993d-880cb07505e8",
   "metadata": {},
   "outputs": [
    {
     "data": {
      "text/plain": [
       "['[INFO] tao_set_elements_cmd:', '    Note: 1299 elements (out of 3067) set.']"
      ]
     },
     "execution_count": 3,
     "metadata": {},
     "output_type": "execute_result"
    }
   ],
   "source": [
    "OPTIONS = '-noplot '\n",
    "INIT = f'-init $LCLS_LATTICE/bmad/models/cu_hxr/tao.init {OPTIONS}'\n",
    "tao = Tao(INIT)\n",
    "tao.cmd('set ele BEGINNING:END field_master=True')\n",
    "\n",
    "\n"
   ]
  },
  {
   "cell_type": "code",
   "execution_count": 4,
   "id": "67eb9741-d914-45ea-a0cc-9c6ee2b4cf99",
   "metadata": {},
   "outputs": [
    {
     "name": "stdout",
     "output_type": "stream",
     "text": [
      "[INFO] tao_create_plot_window:\n",
      "    global%plot_on = F so no plot window created.\n"
     ]
    }
   ],
   "source": [
    "def tc(cmd):\n",
    "    [print(l) for l in tao.cmd(cmd)]\n",
    "tc('set plot_page size = 455 280')"
   ]
  },
  {
   "cell_type": "code",
   "execution_count": 5,
   "id": "393da7c0-a1a5-4ce9-9514-7afe081e6d23",
   "metadata": {
    "scrolled": true
   },
   "outputs": [
    {
     "name": "stderr",
     "output_type": "stream",
     "text": [
      "/sdf/data/ad/ard/u/zihanzhu/lcls/lcls-live/lcls_live/datamaps/__init__.py:38: FutureWarning: Passing literal json to 'read_json' is deprecated and will be removed in a future version. To read from a literal string, wrap it in a 'StringIO' object.\n",
      "  data = pd.read_json(d.pop('data'))\n",
      "/sdf/data/ad/ard/u/zihanzhu/lcls/lcls-live/lcls_live/datamaps/__init__.py:38: FutureWarning: Passing literal json to 'read_json' is deprecated and will be removed in a future version. To read from a literal string, wrap it in a 'StringIO' object.\n",
      "  data = pd.read_json(d.pop('data'))\n",
      "/sdf/data/ad/ard/u/zihanzhu/lcls/lcls-live/lcls_live/datamaps/__init__.py:38: FutureWarning: Passing literal json to 'read_json' is deprecated and will be removed in a future version. To read from a literal string, wrap it in a 'StringIO' object.\n",
      "  data = pd.read_json(d.pop('data'))\n",
      "/sdf/data/ad/ard/u/zihanzhu/lcls/lcls-live/lcls_live/datamaps/__init__.py:38: FutureWarning: Passing literal json to 'read_json' is deprecated and will be removed in a future version. To read from a literal string, wrap it in a 'StringIO' object.\n",
      "  data = pd.read_json(d.pop('data'))\n",
      "/sdf/data/ad/ard/u/zihanzhu/lcls/lcls-live/lcls_live/datamaps/__init__.py:38: FutureWarning: Passing literal json to 'read_json' is deprecated and will be removed in a future version. To read from a literal string, wrap it in a 'StringIO' object.\n",
      "  data = pd.read_json(d.pop('data'))\n",
      "/sdf/data/ad/ard/u/zihanzhu/lcls/lcls-live/lcls_live/datamaps/__init__.py:38: FutureWarning: Passing literal json to 'read_json' is deprecated and will be removed in a future version. To read from a literal string, wrap it in a 'StringIO' object.\n",
      "  data = pd.read_json(d.pop('data'))\n",
      "/sdf/data/ad/ard/u/zihanzhu/lcls/lcls-live/lcls_live/datamaps/__init__.py:38: FutureWarning: Passing literal json to 'read_json' is deprecated and will be removed in a future version. To read from a literal string, wrap it in a 'StringIO' object.\n",
      "  data = pd.read_json(d.pop('data'))\n",
      "CAC: Unable to connect because \"Connection refused\"\n"
     ]
    }
   ],
   "source": [
    "bm = mod.BmadModeling('cu_hxr', 'ACT')\n",
    "bm.date_time='2024-09-26T14:44:39.000000-07:00'\n",
    "output_design = mod.get_output(tao)\n",
    "rf_quads_pv_list = mod.get_rf_quads_pvlist(tao, bm.all_data_maps)\n",
    "energy_gain_pv_list = mod.get_energy_gain_pvlist(bm.beam_path);\n",
    "pvdata = mod.get_machine_values(bm.data_source,rf_quads_pv_list + energy_gain_pv_list)"
   ]
  },
  {
   "cell_type": "code",
   "execution_count": 6,
   "id": "f7f92961-46ea-405b-995c-a2d3e8c8326c",
   "metadata": {
    "scrolled": true
   },
   "outputs": [
    {
     "ename": "RuntimeError",
     "evalue": "Command: set global lattice_calc_on = T causes error: ERROR detected: [ERROR | 2024-NOV-19 14:16:05] tao_set_invalid:\n    UNSTABLE ORBIT AT EVALUATION POINT\n    FOR DATUM: BC2.begtwiss[1] with data_type: beta.a\n[INFO] tao_set_invalid:\n    NO unstable.orbit, unstable.ring, nor unstable.eigen FOR THE UNIVERSE WITH THE PROBLEM EXISTS.\n    YOU MIGHT WANT TO CONSIDER ADDING SUCH A DATUM.\n[ERROR | 2024-NOV-19 14:16:05] tao_set_invalid:\n    UNSTABLE ORBIT AT EVALUATION POINT\n    FOR DATUM: BC2.begtwiss[2] with data_type: alpha.a\n[INFO] tao_set_invalid:\n    NO unstable.orbit, unstable.ring, nor unstable.eigen FOR THE UNIVERSE WITH THE PROBLEM EXISTS.\n    YOU MIGHT WANT TO CONSIDER ADDING SUCH A DATUM.\n[ERROR | 2024-NOV-19 14:16:05] tao_set_invalid:\n    UNSTABLE ORBIT AT EVALUATION POINT\n    FOR DATUM: BC2.begtwiss[3] with data_type: beta.b\n[INFO] tao_set_invalid:\n    NO unstable.orbit, unstable.ring, nor unstable.eigen FOR THE UNIVERSE WITH THE PROBLEM EXISTS.\n    YOU MIGHT WANT TO CONSIDER ADDING SUCH A DATUM.\n[ERROR | 2024-NOV-19 14:16:05] tao_set_invalid:\n    UNSTABLE ORBIT AT EVALUATION POINT\n    FOR DATUM: BC2.begtwiss[4] with data_type: alpha.b\n[INFO] tao_set_invalid:\n    NO unstable.orbit, unstable.ring, nor unstable.eigen FOR THE UNIVERSE WITH THE PROBLEM EXISTS.\n    YOU MIGHT WANT TO CONSIDER ADDING SUCH A DATUM.\n[ERROR | 2024-NOV-19 14:16:05] tao_set_invalid:\n    UNSTABLE ORBIT AT EVALUATION POINT\n    FOR DATUM: BC2.begtwiss[5] with data_type: eta.x\n[INFO] tao_set_invalid:\n    NO unstable.orbit, unstable.ring, nor unstable.eigen FOR THE UNIVERSE WITH THE PROBLEM EXISTS.\n    YOU MIGHT WANT TO CONSIDER ADDING SUCH A DATUM.\n[ERROR | 2024-NOV-19 14:16:05] tao_set_invalid:\n    UNSTABLE ORBIT AT EVALUATION POINT\n    FOR DATUM: BC2.begtwiss[6] with data_type: etap.x\n[INFO] tao_set_invalid:\n    NO unstable.orbit, unstable.ring, nor unstable.eigen FOR THE UNIVERSE WITH THE PROBLEM EXISTS.\n    YOU MIGHT WANT TO CONSIDER ADDING SUCH A DATUM.\n[ERROR | 2024-NOV-19 14:16:05] tao_set_invalid:\n    UNSTABLE ORBIT AT EVALUATION POINT\n    FOR DATUM: BC2.energy[1] with data_type: e_tot_ref\n[INFO] tao_set_invalid:\n    NO unstable.orbit, unstable.ring, nor unstable.eigen FOR THE UNIVERSE WITH THE PROBLEM EXISTS.\n    YOU MIGHT WANT TO CONSIDER ADDING SUCH A DATUM.\n[ERROR | 2024-NOV-19 14:16:05] tao_set_invalid:\n    UNSTABLE ORBIT AT EVALUATION POINT\n    FOR DATUM: BC2.energy[2] with data_type: e_tot_ref\n[INFO] tao_set_invalid:\n    NO unstable.orbit, unstable.ring, nor unstable.eigen FOR THE UNIVERSE WITH THE PROBLEM EXISTS.\n    YOU MIGHT WANT TO CONSIDER ADDING SUCH A DATUM.\n[ERROR | 2024-NOV-19 14:16:05] tao_set_invalid:\n    UNSTABLE ORBIT AT EVALUATION POINT\n    FOR DATUM: BC2.energy[3] with data_type: orbit.e_tot\n[INFO] tao_set_invalid:\n    NO unstable.orbit, unstable.ring, nor unstable.eigen FOR THE UNIVERSE WITH THE PROBLEM EXISTS.\n    YOU MIGHT WANT TO CONSIDER ADDING SUCH A DATUM.\n[ERROR | 2024-NOV-19 14:16:05] tao_set_invalid:\n    UNSTABLE ORBIT AT EVALUATION POINT\n    FOR DATUM: BC2.energy[4] with data_type: orbit.e_tot\n[INFO] tao_set_invalid:\n    NO unstable.orbit, unstable.ring, nor unstable.eigen FOR THE UNIVERSE WITH THE PROBLEM EXISTS.\n    YOU MIGHT WANT TO CONSIDER ADDING SUCH A DATUM.\n[WARNING] tao_set_invalid:\n    NUMBER OF ERROR MESSAGES EXCEEDS GLOBAL%DATUM_ERR_MESSAGES_MAX.\n    WILL NOT PRINT ANY MORE DATUM ERROR MESSAGES FOR THIS EVALUATION CYCLE.",
     "output_type": "error",
     "traceback": [
      "\u001b[0;31m---------------------------------------------------------------------------\u001b[0m",
      "\u001b[0;31mRuntimeError\u001b[0m                              Traceback (most recent call last)",
      "Cell \u001b[0;32mIn[6], line 2\u001b[0m\n\u001b[1;32m      1\u001b[0m tao_cmds \u001b[38;5;241m=\u001b[39m mod\u001b[38;5;241m.\u001b[39mget_tao(pvdata, bm);\n\u001b[0;32m----> 2\u001b[0m output \u001b[38;5;241m=\u001b[39m \u001b[43mmod\u001b[49m\u001b[38;5;241;43m.\u001b[39;49m\u001b[43mevaluate_tao\u001b[49m\u001b[43m(\u001b[49m\u001b[43mtao\u001b[49m\u001b[43m,\u001b[49m\u001b[43m \u001b[49m\u001b[43mtao_cmds\u001b[49m\u001b[43m)\u001b[49m\n\u001b[1;32m      3\u001b[0m tc(\u001b[38;5;124m'\u001b[39m\u001b[38;5;124mscale *\u001b[39m\u001b[38;5;124m'\u001b[39m)\n\u001b[1;32m      5\u001b[0m mod\u001b[38;5;241m.\u001b[39mupdate_energy_gain_cu(tao, pvdata, \u001b[38;5;124m\"\u001b[39m\u001b[38;5;124mL2\u001b[39m\u001b[38;5;124m\"\u001b[39m, bm)\n",
      "File \u001b[0;32m/sdf/data/ad/ard/u/zihanzhu/lcls/lcls-live/lcls-tools/lcls_tools/common/data/bmad_modeling/bmad_modeling.py:59\u001b[0m, in \u001b[0;36mevaluate_tao\u001b[0;34m(tao, tao_cmds)\u001b[0m\n\u001b[1;32m     57\u001b[0m tao\u001b[38;5;241m.\u001b[39mcmd(\u001b[38;5;124m\"\u001b[39m\u001b[38;5;124mset global lattice_calc_on = F\u001b[39m\u001b[38;5;124m\"\u001b[39m)\n\u001b[1;32m     58\u001b[0m tao\u001b[38;5;241m.\u001b[39mcmds(tao_cmds)\n\u001b[0;32m---> 59\u001b[0m \u001b[43mtao\u001b[49m\u001b[38;5;241;43m.\u001b[39;49m\u001b[43mcmd\u001b[49m\u001b[43m(\u001b[49m\u001b[38;5;124;43m\"\u001b[39;49m\u001b[38;5;124;43mset global lattice_calc_on = T\u001b[39;49m\u001b[38;5;124;43m\"\u001b[39;49m\u001b[43m)\u001b[49m\n\u001b[1;32m     60\u001b[0m output \u001b[38;5;241m=\u001b[39m get_output(tao)\n\u001b[1;32m     61\u001b[0m \u001b[38;5;28;01mreturn\u001b[39;00m output\n",
      "File \u001b[0;32m~/miniconda3/envs/lcls-live/lib/python3.9/site-packages/pytao/tao_ctypes/core.py:146\u001b[0m, in \u001b[0;36mTaoCore.cmd\u001b[0;34m(self, cmd, raises)\u001b[0m\n\u001b[1;32m    144\u001b[0m err \u001b[38;5;241m=\u001b[39m error_in_lines(lines)\n\u001b[1;32m    145\u001b[0m \u001b[38;5;28;01mif\u001b[39;00m err:\n\u001b[0;32m--> 146\u001b[0m     \u001b[38;5;28;01mraise\u001b[39;00m \u001b[38;5;167;01mRuntimeError\u001b[39;00m(\u001b[38;5;124mf\u001b[39m\u001b[38;5;124m\"\u001b[39m\u001b[38;5;124mCommand: \u001b[39m\u001b[38;5;132;01m{\u001b[39;00mcmd\u001b[38;5;132;01m}\u001b[39;00m\u001b[38;5;124m causes error: \u001b[39m\u001b[38;5;132;01m{\u001b[39;00merr\u001b[38;5;132;01m}\u001b[39;00m\u001b[38;5;124m\"\u001b[39m)\n\u001b[1;32m    148\u001b[0m \u001b[38;5;28;01mreturn\u001b[39;00m lines\n",
      "\u001b[0;31mRuntimeError\u001b[0m: Command: set global lattice_calc_on = T causes error: ERROR detected: [ERROR | 2024-NOV-19 14:16:05] tao_set_invalid:\n    UNSTABLE ORBIT AT EVALUATION POINT\n    FOR DATUM: BC2.begtwiss[1] with data_type: beta.a\n[INFO] tao_set_invalid:\n    NO unstable.orbit, unstable.ring, nor unstable.eigen FOR THE UNIVERSE WITH THE PROBLEM EXISTS.\n    YOU MIGHT WANT TO CONSIDER ADDING SUCH A DATUM.\n[ERROR | 2024-NOV-19 14:16:05] tao_set_invalid:\n    UNSTABLE ORBIT AT EVALUATION POINT\n    FOR DATUM: BC2.begtwiss[2] with data_type: alpha.a\n[INFO] tao_set_invalid:\n    NO unstable.orbit, unstable.ring, nor unstable.eigen FOR THE UNIVERSE WITH THE PROBLEM EXISTS.\n    YOU MIGHT WANT TO CONSIDER ADDING SUCH A DATUM.\n[ERROR | 2024-NOV-19 14:16:05] tao_set_invalid:\n    UNSTABLE ORBIT AT EVALUATION POINT\n    FOR DATUM: BC2.begtwiss[3] with data_type: beta.b\n[INFO] tao_set_invalid:\n    NO unstable.orbit, unstable.ring, nor unstable.eigen FOR THE UNIVERSE WITH THE PROBLEM EXISTS.\n    YOU MIGHT WANT TO CONSIDER ADDING SUCH A DATUM.\n[ERROR | 2024-NOV-19 14:16:05] tao_set_invalid:\n    UNSTABLE ORBIT AT EVALUATION POINT\n    FOR DATUM: BC2.begtwiss[4] with data_type: alpha.b\n[INFO] tao_set_invalid:\n    NO unstable.orbit, unstable.ring, nor unstable.eigen FOR THE UNIVERSE WITH THE PROBLEM EXISTS.\n    YOU MIGHT WANT TO CONSIDER ADDING SUCH A DATUM.\n[ERROR | 2024-NOV-19 14:16:05] tao_set_invalid:\n    UNSTABLE ORBIT AT EVALUATION POINT\n    FOR DATUM: BC2.begtwiss[5] with data_type: eta.x\n[INFO] tao_set_invalid:\n    NO unstable.orbit, unstable.ring, nor unstable.eigen FOR THE UNIVERSE WITH THE PROBLEM EXISTS.\n    YOU MIGHT WANT TO CONSIDER ADDING SUCH A DATUM.\n[ERROR | 2024-NOV-19 14:16:05] tao_set_invalid:\n    UNSTABLE ORBIT AT EVALUATION POINT\n    FOR DATUM: BC2.begtwiss[6] with data_type: etap.x\n[INFO] tao_set_invalid:\n    NO unstable.orbit, unstable.ring, nor unstable.eigen FOR THE UNIVERSE WITH THE PROBLEM EXISTS.\n    YOU MIGHT WANT TO CONSIDER ADDING SUCH A DATUM.\n[ERROR | 2024-NOV-19 14:16:05] tao_set_invalid:\n    UNSTABLE ORBIT AT EVALUATION POINT\n    FOR DATUM: BC2.energy[1] with data_type: e_tot_ref\n[INFO] tao_set_invalid:\n    NO unstable.orbit, unstable.ring, nor unstable.eigen FOR THE UNIVERSE WITH THE PROBLEM EXISTS.\n    YOU MIGHT WANT TO CONSIDER ADDING SUCH A DATUM.\n[ERROR | 2024-NOV-19 14:16:05] tao_set_invalid:\n    UNSTABLE ORBIT AT EVALUATION POINT\n    FOR DATUM: BC2.energy[2] with data_type: e_tot_ref\n[INFO] tao_set_invalid:\n    NO unstable.orbit, unstable.ring, nor unstable.eigen FOR THE UNIVERSE WITH THE PROBLEM EXISTS.\n    YOU MIGHT WANT TO CONSIDER ADDING SUCH A DATUM.\n[ERROR | 2024-NOV-19 14:16:05] tao_set_invalid:\n    UNSTABLE ORBIT AT EVALUATION POINT\n    FOR DATUM: BC2.energy[3] with data_type: orbit.e_tot\n[INFO] tao_set_invalid:\n    NO unstable.orbit, unstable.ring, nor unstable.eigen FOR THE UNIVERSE WITH THE PROBLEM EXISTS.\n    YOU MIGHT WANT TO CONSIDER ADDING SUCH A DATUM.\n[ERROR | 2024-NOV-19 14:16:05] tao_set_invalid:\n    UNSTABLE ORBIT AT EVALUATION POINT\n    FOR DATUM: BC2.energy[4] with data_type: orbit.e_tot\n[INFO] tao_set_invalid:\n    NO unstable.orbit, unstable.ring, nor unstable.eigen FOR THE UNIVERSE WITH THE PROBLEM EXISTS.\n    YOU MIGHT WANT TO CONSIDER ADDING SUCH A DATUM.\n[WARNING] tao_set_invalid:\n    NUMBER OF ERROR MESSAGES EXCEEDS GLOBAL%DATUM_ERR_MESSAGES_MAX.\n    WILL NOT PRINT ANY MORE DATUM ERROR MESSAGES FOR THIS EVALUATION CYCLE."
     ]
    }
   ],
   "source": [
    "tao_cmds = mod.get_tao(pvdata, bm);\n",
    "output = mod.evaluate_tao(tao, tao_cmds)\n",
    "tc('scale *')\n",
    "\n",
    "mod.update_energy_gain_cu(tao, pvdata, \"L2\", bm)\n",
    "mod.update_energy_gain_cu(tao, pvdata, \"L3\", bm)\n",
    "output = mod.get_output(tao)"
   ]
  },
  {
   "cell_type": "code",
   "execution_count": null,
   "id": "9b88e40b-b8a9-4328-818c-56b66fa95efa",
   "metadata": {
    "scrolled": true
   },
   "outputs": [],
   "source": [
    "output"
   ]
  },
  {
   "cell_type": "code",
   "execution_count": null,
   "id": "5dcb3f71-d639-4473-a804-5a3b9d8f8f59",
   "metadata": {},
   "outputs": [],
   "source": []
  },
  {
   "cell_type": "code",
   "execution_count": null,
   "id": "c589784c-3b2f-425b-ac05-c4db217c57f7",
   "metadata": {},
   "outputs": [],
   "source": []
  },
  {
   "cell_type": "code",
   "execution_count": null,
   "id": "3e9553af-4ab6-4a32-9c5d-6ba8f0772b8e",
   "metadata": {},
   "outputs": [],
   "source": []
  },
  {
   "cell_type": "code",
   "execution_count": null,
   "id": "f4d6f8cf-23a5-469f-984a-f3612cd64080",
   "metadata": {},
   "outputs": [],
   "source": []
  },
  {
   "cell_type": "code",
   "execution_count": null,
   "id": "e493745f-5112-47c6-8103-16c449e43bc3",
   "metadata": {},
   "outputs": [],
   "source": [
    "from epics import caget\n",
    " \n",
    "# Check if the EPICS connection is working by querying an example PV\n",
    "test_pv = 'KLYS:LI21:51:STAT'\n",
    "print(caget(test_pv))  # This should return the current value if the connection is fine."
   ]
  },
  {
   "cell_type": "code",
   "execution_count": null,
   "id": "6672fabe-5877-454a-afd3-081b8fd32d00",
   "metadata": {},
   "outputs": [],
   "source": []
  }
 ],
 "metadata": {
  "kernelspec": {
   "display_name": "Python [conda env:lcls-live]",
   "language": "python",
   "name": "conda-env-lcls-live-py"
  },
  "language_info": {
   "codemirror_mode": {
    "name": "ipython",
    "version": 3
   },
   "file_extension": ".py",
   "mimetype": "text/x-python",
   "name": "python",
   "nbconvert_exporter": "python",
   "pygments_lexer": "ipython3",
   "version": "3.9.19"
  }
 },
 "nbformat": 4,
 "nbformat_minor": 5
}
